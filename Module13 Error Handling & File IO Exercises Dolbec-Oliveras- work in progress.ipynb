{
 "cells": [
  {
   "cell_type": "markdown",
   "metadata": {},
   "source": [
    "### Exercise 1\n",
    "Create a file called <b>exercise1.txt</b> and write following lines:\n",
    "\n",
    "    Twinkle, twinkle, little star,\n",
    "    How I wonder what you are.\n",
    "    Up above the world so high,\n",
    "    Like a diamond in the sky.\n",
    "    \n",
    "    \n",
    "Don't forget to close the file.        "
   ]
  },
  {
   "cell_type": "code",
   "execution_count": 5,
   "metadata": {},
   "outputs": [],
   "source": [
    "FILE_PATH=\"/users/mariacristinadolbecoliveras/downloads/\" \n",
    "out_file = open(FILE_PATH+'exercise1', 'w')  \n",
    "out_file.write(\"\\nTwinkle, twinkle, little star,\\nHow I wonder what you are.\\nUp above the world so high,\\nLike a diamond in the sky.\")\n",
    "out_file.close()"
   ]
  },
  {
   "cell_type": "code",
   "execution_count": null,
   "metadata": {},
   "outputs": [],
   "source": []
  },
  {
   "cell_type": "markdown",
   "metadata": {},
   "source": [
    "### Exercise 2\n",
    "Append following lines to a file called <b>exercise1.txt</b>:\n",
    "\n",
    "    Twinkle, twinkle, little star,\n",
    "    How I wonder what you are.\n",
    "    \n",
    "Don't forget to close the file.    "
   ]
  },
  {
   "cell_type": "code",
   "execution_count": 4,
   "metadata": {},
   "outputs": [],
   "source": [
    "FILE_PATH=\"/users/mariacristinadolbecoliveras/downloads/\" \n",
    "out_file = open(FILE_PATH+'exercise1', 'a')\n",
    "out_file.write(\"Twinkle, twinkle, little star,\\nHow I wonder what you are.\")\n",
    "out_file.close()                "
   ]
  },
  {
   "cell_type": "code",
   "execution_count": null,
   "metadata": {},
   "outputs": [],
   "source": []
  },
  {
   "cell_type": "markdown",
   "metadata": {},
   "source": [
    "### Exercise 3\n",
    "Read a file, <b>exercise1.txt</b> and print the content of the file using a loop.\n",
    "    \n",
    "Don't forget to close the file.    "
   ]
  },
  {
   "cell_type": "code",
   "execution_count": null,
   "metadata": {},
   "outputs": [],
   "source": [
    "  "
   ]
  },
  {
   "cell_type": "code",
   "execution_count": 7,
   "metadata": {},
   "outputs": [
    {
     "name": "stdout",
     "output_type": "stream",
     "text": [
      "\n",
      "\n",
      "Twinkle, twinkle, little star,\n",
      "\n",
      "How I wonder what you are.\n",
      "\n",
      "Up above the world so high,\n",
      "\n",
      "Like a diamond in the sky.\n"
     ]
    }
   ],
   "source": [
    "FILE_PATH=\"/users/mariacristinadolbecoliveras/downloads/\" \n",
    "in_file = open(FILE_PATH+'exercise1', 'r')\n",
    "line = in_file.readline()\n",
    "while line :   \n",
    "    print(line)\n",
    "    line = in_file.readline()\n",
    "\n",
    "in_file.close()"
   ]
  },
  {
   "cell_type": "markdown",
   "metadata": {},
   "source": [
    "### Exercise 4\n",
    "Read line number 4 from the file, <b>exercise1.txt</b>."
   ]
  },
  {
   "cell_type": "code",
   "execution_count": 18,
   "metadata": {},
   "outputs": [
    {
     "name": "stdout",
     "output_type": "stream",
     "text": [
      "d in the sky."
     ]
    }
   ],
   "source": [
    "FILE_PATH=\"/users/mariacristinadolbecoliveras/downloads/\" \n",
    "in_file = open(FILE_PATH+'exercise1', 'r')\n",
    "in_file.seek(100)### still working on the write placement. \n",
    "line = in_file.readline()\n",
    "print(line, end='')"
   ]
  },
  {
   "cell_type": "code",
   "execution_count": null,
   "metadata": {},
   "outputs": [],
   "source": []
  },
  {
   "cell_type": "markdown",
   "metadata": {},
   "source": [
    "### Exercise 5\n",
    "Write a program that asks the user for a number and a file name, then prints out the number from 1 to that number, one one each line to a file named using user's input.\n",
    "Then, read that file and print out its content."
   ]
  },
  {
   "cell_type": "code",
   "execution_count": null,
   "metadata": {},
   "outputs": [],
   "source": []
  },
  {
   "cell_type": "code",
   "execution_count": null,
   "metadata": {},
   "outputs": [],
   "source": []
  },
  {
   "cell_type": "markdown",
   "metadata": {},
   "source": [
    "### Exercise 6\n",
    "Merge a file from exercise 5 and <b>exercise1.txt</b> to a file called <b>merged.txt</b>. Then, prin out the content of <b>merged.txt</b> before closing the file."
   ]
  },
  {
   "cell_type": "code",
   "execution_count": null,
   "metadata": {},
   "outputs": [],
   "source": []
  },
  {
   "cell_type": "code",
   "execution_count": null,
   "metadata": {},
   "outputs": [],
   "source": []
  }
 ],
 "metadata": {
  "kernelspec": {
   "display_name": "Python 3 (ipykernel)",
   "language": "python",
   "name": "python3"
  },
  "language_info": {
   "codemirror_mode": {
    "name": "ipython",
    "version": 3
   },
   "file_extension": ".py",
   "mimetype": "text/x-python",
   "name": "python",
   "nbconvert_exporter": "python",
   "pygments_lexer": "ipython3",
   "version": "3.11.7"
  }
 },
 "nbformat": 4,
 "nbformat_minor": 4
}
